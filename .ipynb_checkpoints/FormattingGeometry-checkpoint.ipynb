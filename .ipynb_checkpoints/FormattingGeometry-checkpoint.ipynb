{
 "cells": [
  {
   "cell_type": "markdown",
   "id": "402943b1",
   "metadata": {},
   "source": [
    "# Formatting Data (geometry)\n",
    "\n",
    "\n",
    "In general, you need to format geometry when you get coordinates."
   ]
  },
  {
   "cell_type": "code",
   "execution_count": 1,
   "id": "75f3c948",
   "metadata": {},
   "outputs": [
    {
     "data": {
      "text/html": [
       "<div>\n",
       "<style scoped>\n",
       "    .dataframe tbody tr th:only-of-type {\n",
       "        vertical-align: middle;\n",
       "    }\n",
       "\n",
       "    .dataframe tbody tr th {\n",
       "        vertical-align: top;\n",
       "    }\n",
       "\n",
       "    .dataframe thead th {\n",
       "        text-align: right;\n",
       "    }\n",
       "</style>\n",
       "<table border=\"1\" class=\"dataframe\">\n",
       "  <thead>\n",
       "    <tr style=\"text-align: right;\">\n",
       "      <th></th>\n",
       "      <th>address</th>\n",
       "      <th>type</th>\n",
       "      <th>datetime</th>\n",
       "      <th>latitude</th>\n",
       "      <th>longitude</th>\n",
       "      <th>report_location</th>\n",
       "      <th>incident_number</th>\n",
       "      <th>date</th>\n",
       "      <th>year</th>\n",
       "      <th>month</th>\n",
       "      <th>weekday</th>\n",
       "      <th>hour</th>\n",
       "      <th>nightTime</th>\n",
       "    </tr>\n",
       "  </thead>\n",
       "  <tbody>\n",
       "    <tr>\n",
       "      <th>0</th>\n",
       "      <td>450 Ne 100th St</td>\n",
       "      <td>Aid Response</td>\n",
       "      <td>2022-08-18 10:18:00</td>\n",
       "      <td>47.701329</td>\n",
       "      <td>-122.323684</td>\n",
       "      <td>{'type': 'Point', 'coordinates': [-122.323684,...</td>\n",
       "      <td>F220099506</td>\n",
       "      <td>2022-08-18</td>\n",
       "      <td>2022</td>\n",
       "      <td>August</td>\n",
       "      <td>Thursday</td>\n",
       "      <td>10</td>\n",
       "      <td>False</td>\n",
       "    </tr>\n",
       "    <tr>\n",
       "      <th>1</th>\n",
       "      <td>1020 Seneca St</td>\n",
       "      <td>Aid Response</td>\n",
       "      <td>2022-08-18 10:16:00</td>\n",
       "      <td>47.610396</td>\n",
       "      <td>-122.327328</td>\n",
       "      <td>{'type': 'Point', 'coordinates': [-122.327328,...</td>\n",
       "      <td>F220099504</td>\n",
       "      <td>2022-08-18</td>\n",
       "      <td>2022</td>\n",
       "      <td>August</td>\n",
       "      <td>Thursday</td>\n",
       "      <td>10</td>\n",
       "      <td>False</td>\n",
       "    </tr>\n",
       "    <tr>\n",
       "      <th>2</th>\n",
       "      <td>S Alaska St / M L King Jr Way S</td>\n",
       "      <td>BC Aid Response</td>\n",
       "      <td>2022-08-18 10:16:00</td>\n",
       "      <td>47.560808</td>\n",
       "      <td>-122.29324</td>\n",
       "      <td>{'type': 'Point', 'coordinates': [-122.29324, ...</td>\n",
       "      <td>F220099505</td>\n",
       "      <td>2022-08-18</td>\n",
       "      <td>2022</td>\n",
       "      <td>August</td>\n",
       "      <td>Thursday</td>\n",
       "      <td>10</td>\n",
       "      <td>False</td>\n",
       "    </tr>\n",
       "    <tr>\n",
       "      <th>3</th>\n",
       "      <td>4th Ave N / Mercer St</td>\n",
       "      <td>Triaged Incident</td>\n",
       "      <td>2022-08-18 10:15:00</td>\n",
       "      <td>47.624564</td>\n",
       "      <td>-122.348877</td>\n",
       "      <td>{'type': 'Point', 'coordinates': [-122.348877,...</td>\n",
       "      <td>F220099503</td>\n",
       "      <td>2022-08-18</td>\n",
       "      <td>2022</td>\n",
       "      <td>August</td>\n",
       "      <td>Thursday</td>\n",
       "      <td>10</td>\n",
       "      <td>False</td>\n",
       "    </tr>\n",
       "    <tr>\n",
       "      <th>4</th>\n",
       "      <td>815 S Dearborn St</td>\n",
       "      <td>Investigate Out Of Service</td>\n",
       "      <td>2022-08-18 10:08:00</td>\n",
       "      <td>47.595831</td>\n",
       "      <td>-122.322292</td>\n",
       "      <td>{'type': 'Point', 'coordinates': [-122.322292,...</td>\n",
       "      <td>F220099502</td>\n",
       "      <td>2022-08-18</td>\n",
       "      <td>2022</td>\n",
       "      <td>August</td>\n",
       "      <td>Thursday</td>\n",
       "      <td>10</td>\n",
       "      <td>False</td>\n",
       "    </tr>\n",
       "  </tbody>\n",
       "</table>\n",
       "</div>"
      ],
      "text/plain": [
       "                           address                        type  \\\n",
       "0                  450 Ne 100th St                Aid Response   \n",
       "1                   1020 Seneca St                Aid Response   \n",
       "2  S Alaska St / M L King Jr Way S             BC Aid Response   \n",
       "3            4th Ave N / Mercer St            Triaged Incident   \n",
       "4                815 S Dearborn St  Investigate Out Of Service   \n",
       "\n",
       "             datetime   latitude    longitude  \\\n",
       "0 2022-08-18 10:18:00  47.701329  -122.323684   \n",
       "1 2022-08-18 10:16:00  47.610396  -122.327328   \n",
       "2 2022-08-18 10:16:00  47.560808   -122.29324   \n",
       "3 2022-08-18 10:15:00  47.624564  -122.348877   \n",
       "4 2022-08-18 10:08:00  47.595831  -122.322292   \n",
       "\n",
       "                                     report_location incident_number  \\\n",
       "0  {'type': 'Point', 'coordinates': [-122.323684,...      F220099506   \n",
       "1  {'type': 'Point', 'coordinates': [-122.327328,...      F220099504   \n",
       "2  {'type': 'Point', 'coordinates': [-122.29324, ...      F220099505   \n",
       "3  {'type': 'Point', 'coordinates': [-122.348877,...      F220099503   \n",
       "4  {'type': 'Point', 'coordinates': [-122.322292,...      F220099502   \n",
       "\n",
       "         date  year   month   weekday  hour  nightTime  \n",
       "0  2022-08-18  2022  August  Thursday    10      False  \n",
       "1  2022-08-18  2022  August  Thursday    10      False  \n",
       "2  2022-08-18  2022  August  Thursday    10      False  \n",
       "3  2022-08-18  2022  August  Thursday    10      False  \n",
       "4  2022-08-18  2022  August  Thursday    10      False  "
      ]
     },
     "execution_count": 1,
     "metadata": {},
     "output_type": "execute_result"
    }
   ],
   "source": [
    "import pandas as pd\n",
    "import os\n",
    "\n",
    "where=os.path.join('DataFiles','calls911.pkl')\n",
    "calls911=pd.read_pickle(where)\n",
    "calls911.head()"
   ]
  },
  {
   "cell_type": "markdown",
   "id": "33d1b686",
   "metadata": {},
   "source": [
    "You know the call identify the location of the incident. Then you are interested in representing that coordinates in a map. You have this map:"
   ]
  },
  {
   "cell_type": "code",
   "execution_count": null,
   "id": "949f3baf",
   "metadata": {},
   "outputs": [],
   "source": [
    "import geopandas as gpd\n",
    "\n",
    "theMapFile=os.path.join(\"DataFiles\",\"Census_Tracts_2010.geojson\")\n",
    "seattleMap=gpd.read_file(theMapFile)\n",
    "seattleMap.plot()"
   ]
  },
  {
   "cell_type": "markdown",
   "id": "86c2a182",
   "metadata": {},
   "source": [
    "The map came from a geojson file. It is a common format these days. However, the more familiar format has always been the shapefile (**.shp**)\n",
    "\n",
    "All maps are a **projection** of our 3D world. So, maps, 2D objects, should let us know that:"
   ]
  },
  {
   "cell_type": "code",
   "execution_count": null,
   "id": "81db838e",
   "metadata": {},
   "outputs": [],
   "source": [
    "# projection info is not here!!\n",
    "seattleMap.info()"
   ]
  },
  {
   "cell_type": "code",
   "execution_count": null,
   "id": "02bc26c4",
   "metadata": {},
   "outputs": [],
   "source": [
    "# it is here\n",
    "seattleMap.crs"
   ]
  },
  {
   "cell_type": "markdown",
   "id": "adcb0a2a",
   "metadata": {},
   "source": [
    "The **report_location** column came from the original data in the _API_; it has the coordinates of the event, and it is very useful. I can recover that in Python as it is a dictionary."
   ]
  },
  {
   "cell_type": "code",
   "execution_count": null,
   "id": "059281f8",
   "metadata": {
    "scrolled": false
   },
   "outputs": [],
   "source": [
    "[x['coordinates'] for x in calls911.report_location[1:10]]"
   ]
  },
  {
   "cell_type": "markdown",
   "id": "df1e65a1",
   "metadata": {},
   "source": [
    "Fortunately, we have already that information in the columns _longitude_ and _latitude_; so we can drop it:"
   ]
  },
  {
   "cell_type": "code",
   "execution_count": null,
   "id": "8115195a",
   "metadata": {},
   "outputs": [],
   "source": [
    "calls911.drop(columns=[\"report_location\"],inplace=True)"
   ]
  },
  {
   "cell_type": "markdown",
   "id": "0f19a1f2",
   "metadata": {},
   "source": [
    "However, _longitude_ and _latitude_ are not numeric, then we need to format:"
   ]
  },
  {
   "cell_type": "code",
   "execution_count": null,
   "id": "25b56d98",
   "metadata": {},
   "outputs": [],
   "source": [
    "calls911[['longitude','latitude']]=calls911[['longitude','latitude']].apply(lambda x:pd.to_numeric(x))"
   ]
  },
  {
   "cell_type": "markdown",
   "id": "b29d73c0",
   "metadata": {},
   "source": [
    "Let's pay plot the coordinates:"
   ]
  },
  {
   "cell_type": "code",
   "execution_count": null,
   "id": "892223f1",
   "metadata": {},
   "outputs": [],
   "source": [
    "calls911.plot.scatter(x = 'longitude', y = 'latitude')"
   ]
  },
  {
   "cell_type": "markdown",
   "id": "d01d0247",
   "metadata": {},
   "source": [
    "Now, let's plot the coordinates on top of the map:"
   ]
  },
  {
   "cell_type": "code",
   "execution_count": null,
   "id": "a39e3f17",
   "metadata": {},
   "outputs": [],
   "source": [
    "import matplotlib.pyplot as plt\n",
    "ax = seattleMap.plot(color='white',\n",
    "                  edgecolor='black')\n",
    "\n",
    "calls911[['longitude','latitude']].plot(ax=ax, color='red',markersize=0.5)\n",
    "\n",
    "plt.show()"
   ]
  },
  {
   "cell_type": "markdown",
   "id": "9be9bab0",
   "metadata": {},
   "source": [
    "It fails as it is not a spatial data frame.\n",
    "\n",
    "The next step is to create a spatial dataframe for the 911 data. Let's use geopandas:"
   ]
  },
  {
   "cell_type": "code",
   "execution_count": null,
   "id": "52829e1f",
   "metadata": {},
   "outputs": [],
   "source": [
    "import geopandas as gpd\n",
    "\n",
    "pointsAsGeometry=gpd.points_from_xy(calls911.longitude,\n",
    "                                    calls911.latitude,crs=\"EPSG:4326\")\n",
    "\n",
    "calls911_geo = gpd.GeoDataFrame(calls911,\n",
    "                                geometry=pointsAsGeometry)\n",
    "\n",
    "# check:\n",
    "\n",
    "calls911_geo.crs"
   ]
  },
  {
   "cell_type": "markdown",
   "id": "d6bcec7e",
   "metadata": {},
   "source": [
    "Let's redo the previous _failed_ plot:"
   ]
  },
  {
   "cell_type": "code",
   "execution_count": null,
   "id": "7202e215",
   "metadata": {},
   "outputs": [],
   "source": [
    "ax = seattleMap.plot(color='white',\n",
    "                  edgecolor='black')\n",
    "\n",
    "calls911_geo.plot(ax=ax, color='red',\n",
    "                  markersize=0.5)\n",
    "plt.show()"
   ]
  },
  {
   "cell_type": "markdown",
   "id": "883b0a79",
   "metadata": {},
   "source": [
    "Notice there is an event registered which is not in Seattle."
   ]
  },
  {
   "cell_type": "code",
   "execution_count": null,
   "id": "4eb02f1a",
   "metadata": {},
   "outputs": [],
   "source": [
    "calls911_geo[calls911_geo.longitude==calls911_geo.longitude.max()]"
   ]
  },
  {
   "cell_type": "markdown",
   "id": "77d1a43b",
   "metadata": {},
   "source": [
    "The map of Seattle has information of its limits: the **bounding box**. You can use that to filter the events:"
   ]
  },
  {
   "cell_type": "code",
   "execution_count": null,
   "id": "f23fe817",
   "metadata": {},
   "outputs": [],
   "source": [
    "calls911_geoclipped = gpd.clip(gdf=calls911_geo,\n",
    "                               mask=seattleMap)\n",
    "\n",
    "###\n",
    "\n",
    "ax = seattleMap.plot(color='white',\n",
    "                  edgecolor='black')\n",
    "\n",
    "calls911_geoclipped.plot(ax=ax, color='red',\n",
    "                  markersize=0.5)\n",
    "plt.show()"
   ]
  },
  {
   "cell_type": "markdown",
   "id": "a7dc92e1",
   "metadata": {},
   "source": [
    "We could save this file as an spatial data frame for further use in another program:"
   ]
  },
  {
   "cell_type": "code",
   "execution_count": null,
   "id": "5fa2aaab",
   "metadata": {},
   "outputs": [],
   "source": [
    "# the datetime format can not be saved so we drop it.\n",
    "# other choice could be to save it as a string.\n",
    "\n",
    "whereGeo=os.path.join(\"DataFiles\",\"calls911_geo.geojson\")\n",
    "\n",
    "calls911_geoclipped.drop(columns=[\"date\"]).to_file(whereGeo,\n",
    "                                            driver='GeoJSON')"
   ]
  },
  {
   "cell_type": "code",
   "execution_count": null,
   "id": "3b06f0a1",
   "metadata": {},
   "outputs": [],
   "source": []
  }
 ],
 "metadata": {
  "kernelspec": {
   "display_name": "Python 3 (ipykernel)",
   "language": "python",
   "name": "python3"
  },
  "language_info": {
   "codemirror_mode": {
    "name": "ipython",
    "version": 3
   },
   "file_extension": ".py",
   "mimetype": "text/x-python",
   "name": "python",
   "nbconvert_exporter": "python",
   "pygments_lexer": "ipython3",
   "version": "3.9.12"
  }
 },
 "nbformat": 4,
 "nbformat_minor": 5
}
