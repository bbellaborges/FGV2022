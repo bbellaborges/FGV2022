{
 "cells": [
  {
   "cell_type": "markdown",
   "id": "402943b1",
   "metadata": {},
   "source": [
    "# Formatting Data (dates)\n",
    "\n",
    "It is very common to find dates (some combination of year, month, day of week and time) in data that is collected in real time (and other that organize event information.\n",
    "\n",
    "Let's see a data frame that comes with dates from an API."
   ]
  },
  {
   "cell_type": "code",
   "execution_count": 1,
   "id": "75f3c948",
   "metadata": {},
   "outputs": [
    {
     "name": "stderr",
     "output_type": "stream",
     "text": [
      "WARNING:root:Requests made without an app_token will be subject to strict throttling limits.\n"
     ]
    }
   ],
   "source": [
    "import pandas as pd\n",
    "from sodapy import Socrata\n",
    "\n",
    "client = Socrata(\"data.seattle.gov\", None)\n",
    "\n",
    "results = client.get(\"kzjm-xkqj\", limit=2000)\n",
    "\n",
    "# Convert to pandas DataFrame\n",
    "calls911 = pd.DataFrame.from_records(results)"
   ]
  },
  {
   "cell_type": "markdown",
   "id": "33d1b686",
   "metadata": {},
   "source": [
    "Let's check some information:"
   ]
  },
  {
   "cell_type": "code",
   "execution_count": 2,
   "id": "8b6e8130",
   "metadata": {},
   "outputs": [
    {
     "name": "stdout",
     "output_type": "stream",
     "text": [
      "<class 'pandas.core.frame.DataFrame'>\n",
      "RangeIndex: 2000 entries, 0 to 1999\n",
      "Data columns (total 12 columns):\n",
      " #   Column                       Non-Null Count  Dtype \n",
      "---  ------                       --------------  ----- \n",
      " 0   address                      2000 non-null   object\n",
      " 1   type                         2000 non-null   object\n",
      " 2   datetime                     2000 non-null   object\n",
      " 3   latitude                     1996 non-null   object\n",
      " 4   longitude                    1996 non-null   object\n",
      " 5   report_location              1997 non-null   object\n",
      " 6   incident_number              2000 non-null   object\n",
      " 7   :@computed_region_ru88_fbhk  1992 non-null   object\n",
      " 8   :@computed_region_kuhn_3gp2  1992 non-null   object\n",
      " 9   :@computed_region_q256_3sug  1997 non-null   object\n",
      " 10  :@computed_region_2day_rhn5  176 non-null    object\n",
      " 11  :@computed_region_cyqu_gs94  165 non-null    object\n",
      "dtypes: object(12)\n",
      "memory usage: 187.6+ KB\n"
     ]
    }
   ],
   "source": [
    "calls911.info()"
   ]
  },
  {
   "cell_type": "markdown",
   "id": "411ee94b",
   "metadata": {},
   "source": [
    "Let's get rid of some columns:"
   ]
  },
  {
   "cell_type": "code",
   "execution_count": 3,
   "id": "ff87b95f",
   "metadata": {},
   "outputs": [],
   "source": [
    "calls911=calls911.iloc[:,:7]"
   ]
  },
  {
   "cell_type": "markdown",
   "id": "ea1b71f9",
   "metadata": {},
   "source": [
    "Let's check the column _datetime_:"
   ]
  },
  {
   "cell_type": "code",
   "execution_count": 4,
   "id": "c61dade2",
   "metadata": {},
   "outputs": [
    {
     "data": {
      "text/plain": [
       "0    2022-08-18T10:18:00.000\n",
       "1    2022-08-18T10:16:00.000\n",
       "2    2022-08-18T10:16:00.000\n",
       "3    2022-08-18T10:15:00.000\n",
       "4    2022-08-18T10:08:00.000\n",
       "Name: datetime, dtype: object"
      ]
     },
     "execution_count": 4,
     "metadata": {},
     "output_type": "execute_result"
    }
   ],
   "source": [
    "calls911.datetime.head()"
   ]
  },
  {
   "cell_type": "code",
   "execution_count": 5,
   "id": "0685a26d",
   "metadata": {},
   "outputs": [
    {
     "data": {
      "text/plain": [
       "str"
      ]
     },
     "execution_count": 5,
     "metadata": {},
     "output_type": "execute_result"
    }
   ],
   "source": [
    "# then\n",
    "type(calls911.datetime[0])\n"
   ]
  },
  {
   "cell_type": "markdown",
   "id": "bf7e8e20",
   "metadata": {},
   "source": [
    "The date and time information is not useful at this time, that is, the information it offers is of limited use, as it is just a string. \n",
    "\n",
    "Let's make it useful:"
   ]
  },
  {
   "cell_type": "code",
   "execution_count": 6,
   "id": "3e232c75",
   "metadata": {
    "scrolled": true
   },
   "outputs": [
    {
     "name": "stdout",
     "output_type": "stream",
     "text": [
      "<class 'pandas.core.frame.DataFrame'>\n",
      "RangeIndex: 2000 entries, 0 to 1999\n",
      "Data columns (total 7 columns):\n",
      " #   Column           Non-Null Count  Dtype         \n",
      "---  ------           --------------  -----         \n",
      " 0   address          2000 non-null   object        \n",
      " 1   type             2000 non-null   object        \n",
      " 2   datetime         2000 non-null   datetime64[ns]\n",
      " 3   latitude         1996 non-null   object        \n",
      " 4   longitude        1996 non-null   object        \n",
      " 5   report_location  1997 non-null   object        \n",
      " 6   incident_number  2000 non-null   object        \n",
      "dtypes: datetime64[ns](1), object(6)\n",
      "memory usage: 109.5+ KB\n"
     ]
    }
   ],
   "source": [
    "calls911.datetime=pd.to_datetime(calls911.datetime,format='%Y-%m-%d')\n",
    "calls911.info()"
   ]
  },
  {
   "cell_type": "markdown",
   "id": "b90004bf",
   "metadata": {},
   "source": [
    "Once you have this data type, you can retrieve important information:"
   ]
  },
  {
   "cell_type": "code",
   "execution_count": 7,
   "id": "0d7637b8",
   "metadata": {},
   "outputs": [],
   "source": [
    "calls911['date']=calls911.datetime.dt.date\n",
    "calls911['year']=calls911.datetime.dt.year\n",
    "calls911['month']=calls911.datetime.dt.month_name()\n",
    "calls911['weekday']=calls911.datetime.dt.day_name()\n",
    "calls911['hour']=calls911.datetime.dt.hour"
   ]
  },
  {
   "cell_type": "code",
   "execution_count": 8,
   "id": "6c1581d8",
   "metadata": {},
   "outputs": [
    {
     "data": {
      "text/html": [
       "<div>\n",
       "<style scoped>\n",
       "    .dataframe tbody tr th:only-of-type {\n",
       "        vertical-align: middle;\n",
       "    }\n",
       "\n",
       "    .dataframe tbody tr th {\n",
       "        vertical-align: top;\n",
       "    }\n",
       "\n",
       "    .dataframe thead th {\n",
       "        text-align: right;\n",
       "    }\n",
       "</style>\n",
       "<table border=\"1\" class=\"dataframe\">\n",
       "  <thead>\n",
       "    <tr style=\"text-align: right;\">\n",
       "      <th></th>\n",
       "      <th>address</th>\n",
       "      <th>type</th>\n",
       "      <th>datetime</th>\n",
       "      <th>latitude</th>\n",
       "      <th>longitude</th>\n",
       "      <th>report_location</th>\n",
       "      <th>incident_number</th>\n",
       "      <th>date</th>\n",
       "      <th>year</th>\n",
       "      <th>month</th>\n",
       "      <th>weekday</th>\n",
       "      <th>hour</th>\n",
       "    </tr>\n",
       "  </thead>\n",
       "  <tbody>\n",
       "    <tr>\n",
       "      <th>0</th>\n",
       "      <td>450 Ne 100th St</td>\n",
       "      <td>Aid Response</td>\n",
       "      <td>2022-08-18 10:18:00</td>\n",
       "      <td>47.701329</td>\n",
       "      <td>-122.323684</td>\n",
       "      <td>{'type': 'Point', 'coordinates': [-122.323684,...</td>\n",
       "      <td>F220099506</td>\n",
       "      <td>2022-08-18</td>\n",
       "      <td>2022</td>\n",
       "      <td>August</td>\n",
       "      <td>Thursday</td>\n",
       "      <td>10</td>\n",
       "    </tr>\n",
       "    <tr>\n",
       "      <th>1</th>\n",
       "      <td>1020 Seneca St</td>\n",
       "      <td>Aid Response</td>\n",
       "      <td>2022-08-18 10:16:00</td>\n",
       "      <td>47.610396</td>\n",
       "      <td>-122.327328</td>\n",
       "      <td>{'type': 'Point', 'coordinates': [-122.327328,...</td>\n",
       "      <td>F220099504</td>\n",
       "      <td>2022-08-18</td>\n",
       "      <td>2022</td>\n",
       "      <td>August</td>\n",
       "      <td>Thursday</td>\n",
       "      <td>10</td>\n",
       "    </tr>\n",
       "    <tr>\n",
       "      <th>2</th>\n",
       "      <td>S Alaska St / M L King Jr Way S</td>\n",
       "      <td>BC Aid Response</td>\n",
       "      <td>2022-08-18 10:16:00</td>\n",
       "      <td>47.560808</td>\n",
       "      <td>-122.29324</td>\n",
       "      <td>{'type': 'Point', 'coordinates': [-122.29324, ...</td>\n",
       "      <td>F220099505</td>\n",
       "      <td>2022-08-18</td>\n",
       "      <td>2022</td>\n",
       "      <td>August</td>\n",
       "      <td>Thursday</td>\n",
       "      <td>10</td>\n",
       "    </tr>\n",
       "    <tr>\n",
       "      <th>3</th>\n",
       "      <td>4th Ave N / Mercer St</td>\n",
       "      <td>Triaged Incident</td>\n",
       "      <td>2022-08-18 10:15:00</td>\n",
       "      <td>47.624564</td>\n",
       "      <td>-122.348877</td>\n",
       "      <td>{'type': 'Point', 'coordinates': [-122.348877,...</td>\n",
       "      <td>F220099503</td>\n",
       "      <td>2022-08-18</td>\n",
       "      <td>2022</td>\n",
       "      <td>August</td>\n",
       "      <td>Thursday</td>\n",
       "      <td>10</td>\n",
       "    </tr>\n",
       "    <tr>\n",
       "      <th>4</th>\n",
       "      <td>815 S Dearborn St</td>\n",
       "      <td>Investigate Out Of Service</td>\n",
       "      <td>2022-08-18 10:08:00</td>\n",
       "      <td>47.595831</td>\n",
       "      <td>-122.322292</td>\n",
       "      <td>{'type': 'Point', 'coordinates': [-122.322292,...</td>\n",
       "      <td>F220099502</td>\n",
       "      <td>2022-08-18</td>\n",
       "      <td>2022</td>\n",
       "      <td>August</td>\n",
       "      <td>Thursday</td>\n",
       "      <td>10</td>\n",
       "    </tr>\n",
       "  </tbody>\n",
       "</table>\n",
       "</div>"
      ],
      "text/plain": [
       "                           address                        type  \\\n",
       "0                  450 Ne 100th St                Aid Response   \n",
       "1                   1020 Seneca St                Aid Response   \n",
       "2  S Alaska St / M L King Jr Way S             BC Aid Response   \n",
       "3            4th Ave N / Mercer St            Triaged Incident   \n",
       "4                815 S Dearborn St  Investigate Out Of Service   \n",
       "\n",
       "             datetime   latitude    longitude  \\\n",
       "0 2022-08-18 10:18:00  47.701329  -122.323684   \n",
       "1 2022-08-18 10:16:00  47.610396  -122.327328   \n",
       "2 2022-08-18 10:16:00  47.560808   -122.29324   \n",
       "3 2022-08-18 10:15:00  47.624564  -122.348877   \n",
       "4 2022-08-18 10:08:00  47.595831  -122.322292   \n",
       "\n",
       "                                     report_location incident_number  \\\n",
       "0  {'type': 'Point', 'coordinates': [-122.323684,...      F220099506   \n",
       "1  {'type': 'Point', 'coordinates': [-122.327328,...      F220099504   \n",
       "2  {'type': 'Point', 'coordinates': [-122.29324, ...      F220099505   \n",
       "3  {'type': 'Point', 'coordinates': [-122.348877,...      F220099503   \n",
       "4  {'type': 'Point', 'coordinates': [-122.322292,...      F220099502   \n",
       "\n",
       "         date  year   month   weekday  hour  \n",
       "0  2022-08-18  2022  August  Thursday    10  \n",
       "1  2022-08-18  2022  August  Thursday    10  \n",
       "2  2022-08-18  2022  August  Thursday    10  \n",
       "3  2022-08-18  2022  August  Thursday    10  \n",
       "4  2022-08-18  2022  August  Thursday    10  "
      ]
     },
     "execution_count": 8,
     "metadata": {},
     "output_type": "execute_result"
    }
   ],
   "source": [
    "calls911.head()"
   ]
  },
  {
   "cell_type": "markdown",
   "id": "5aee7d81",
   "metadata": {},
   "source": [
    "Let's create a new column with what we have. In this case, a boolean where you tell if it is night time (after 8 pm before 6 am):"
   ]
  },
  {
   "cell_type": "code",
   "execution_count": 9,
   "id": "335b1a0f",
   "metadata": {},
   "outputs": [],
   "source": [
    "calls911['nightTime']=((calls911['hour']<=6) | (calls911['hour']>=20))"
   ]
  },
  {
   "cell_type": "markdown",
   "id": "b60afa87",
   "metadata": {},
   "source": [
    "Let's save what we have:"
   ]
  },
  {
   "cell_type": "code",
   "execution_count": 10,
   "id": "954e790c",
   "metadata": {},
   "outputs": [],
   "source": [
    "import os\n",
    "\n",
    "where=os.path.join('DataFiles','calls911.pkl')\n",
    "calls911.to_pickle(where)"
   ]
  },
  {
   "cell_type": "code",
   "execution_count": null,
   "id": "b3c281bc",
   "metadata": {},
   "outputs": [],
   "source": []
  }
 ],
 "metadata": {
  "kernelspec": {
   "display_name": "Python 3 (ipykernel)",
   "language": "python",
   "name": "python3"
  },
  "language_info": {
   "codemirror_mode": {
    "name": "ipython",
    "version": 3
   },
   "file_extension": ".py",
   "mimetype": "text/x-python",
   "name": "python",
   "nbconvert_exporter": "python",
   "pygments_lexer": "ipython3",
   "version": "3.9.12"
  }
 },
 "nbformat": 4,
 "nbformat_minor": 5
}
